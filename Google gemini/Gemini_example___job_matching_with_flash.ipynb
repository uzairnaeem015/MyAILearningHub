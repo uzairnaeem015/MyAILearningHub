{
  "nbformat": 4,
  "nbformat_minor": 0,
  "metadata": {
    "colab": {
      "provenance": []
    },
    "kernelspec": {
      "name": "python3",
      "display_name": "Python 3"
    },
    "language_info": {
      "name": "python"
    }
  },
  "cells": [
    {
      "cell_type": "code",
      "execution_count": 10,
      "metadata": {
        "id": "C1CohwlKVJ3O"
      },
      "outputs": [],
      "source": [
        "!pip install -q -U google-generativeai"
      ]
    },
    {
      "cell_type": "code",
      "source": [
        "# Import the Python SDK\n",
        "import google.generativeai as genai\n",
        "# Used to securely store your API key\n",
        "from google.colab import userdata\n",
        "\n",
        "GOOGLE_API_KEY=userdata.get('GOOGLE_API_KEY')\n",
        "genai.configure(api_key=GOOGLE_API_KEY)"
      ],
      "metadata": {
        "id": "MODj3EM9VY8g"
      },
      "execution_count": 18,
      "outputs": []
    },
    {
      "cell_type": "code",
      "source": [
        "def get_gemini_response(input):\n",
        "    model=genai.GenerativeModel('gemini-1.5-flash')\n",
        "    response = model.generate_content(input)\n",
        "    return response"
      ],
      "metadata": {
        "id": "5UA-oKl-fTS1"
      },
      "execution_count": 34,
      "outputs": []
    },
    {
      "cell_type": "code",
      "source": [
        "jd = \"\"\"\n",
        "About the job\n",
        "C# Developer at RTeams(Remote, US)\n",
        "\n",
        "\n",
        "About Us: RTeams is a forward-thinking tech company committed to innovation in the digital space. We are looking for a talented C# Developer to join our remote team, providing individuals across the United States with the opportunity to contribute to cutting-edge projects and collaborate with a dynamic and diverse team.\n",
        "\n",
        "\n",
        "Position: C# Developer Location: Remote (US) Employment Type: Full-time (Contract or Regular)\n",
        "\n",
        "\n",
        "Responsibilities:\n",
        "Develop and maintain efficient C# applications\n",
        "Collaborate with team members to design and implement software solutions\n",
        "Write clean, scalable, and maintainable code\n",
        "Conduct testing and debugging to ensure optimal performance\n",
        "\n",
        "\n",
        "Requirements:\n",
        "Proficiency in C# programming language\n",
        "Experience with .NET framework and related technologies\n",
        "Familiarity with front-end technologies such as HTML, CSS, and JavaScript\n",
        "Knowledge of database systems like SQL Server or MySQL\n",
        "Strong problem-solving skills and the ability to work effectively in a remote team environment\n",
        "\n",
        "\n",
        "Experience:\n",
        "2+ years of experience in C# development\n",
        "Previous work with web applications or enterprise-level software\n",
        "Exposure to ASP.NET or MVC frameworks\n",
        "Understanding of design patterns and best coding practices\n",
        "\n",
        "\n",
        "Working Hours:\n",
        "Usual working hours from 9:00 am to 5:00 pm or 10:00 am to 6:00 pm\n",
        "\n",
        "\n",
        "Education:\n",
        "No formal university degree required\n",
        "\n",
        "\n",
        "Join our team at RTeams and be part of a collaborative and innovative environment where your expertise and creativity are valued. If you are passionate about C# development and eager to take on exciting challenges, we would love to hear from you.\n",
        "\n",
        "\n",
        "Note: We are an equal opportunity employer dedicated to fostering diversity and inclusion in the workplace, and we welcome applications from all qualified individuals.\n",
        "\n",
        "\"\"\""
      ],
      "metadata": {
        "id": "F5rj-1LhfgER"
      },
      "execution_count": 28,
      "outputs": []
    },
    {
      "cell_type": "code",
      "source": [
        "text = \"\"\"\n",
        "Uzair Naeem\n",
        "Software Engineer with over 4 years of experience in software development, specializing in C# with .NET Core and Microsoft Dynamics 365 F&O. Successfully delivered 9 projects, including integrations, mobile and web apps, and D365 customizations for 5 different clients. Recent Master's graduate with a major in Machine Learning, now seeking new opportunities and more complex challenges to leverage my skills, experience, and recent studies in ML to contribute to innovative projects.\n",
        "Work Experience\n",
        "Senior Software Engineer | Folio3 | Karachi, Pakistan\n",
        "Jan 2020 – Aug 2022\n",
        "•\tDeveloped backend services, web service, REST APIs, customizations, integrations, and reports (SSRS and bottomline) for D365 F&O and AX 2012 across various modules, including Warehouse Management, Production Control, Sales and Marketing, Product Information, Project management, etc. for multiple clients.\n",
        "•\tLed the development of a \"Warehousing app\" for inventory management module, utilizing X++ for D365 development and C# .NET Core for middleware. This solution enables users to perform operations with single interaction on their scan gun.\n",
        "•\tWorked on the web application \"Ardia\" for the production module, utilizing SignalR for real-time communication of weight data from Comport to the front-end, and ZPL for label printing. This solution significantly improves efficiency by enabling instant label printing within 1 second.\n",
        "•\tAutomated recurring expense report generation and approval for over 500 users using OCR technology with C# and Google Tesseract, reducing manual input time by 50%.\n",
        "•\tResponsible and Accountable for diagnosing and resolving production issues in D365 F&O and AX 2012, as well as investigating and rectifying apps and integration issues.\n",
        "•\tTook the ownership of refactoring the code to optimize the performance, and making the development and maintenance of backend code at least 50% easier than before.\n",
        "\n",
        "Software Engineer | Folio3 | Karachi, Pakistan\n",
        "Nov 2017 – Dec 2019\n",
        "•\tManaged and executed 2 integration projects simultaneously, managed the entire development process and achieved 100% client satisfaction and on-time delivery.\n",
        "•\tDesigned and implemented a new feature for an advanced pricing module, integrating it seamlessly with D365 and E-Commerce platforms. This new feature significantly contributed to the success of integration projects, becoming a key selling point.\n",
        "•\tEnhanced backend code to optimize bulk data retrieval, resulting in a significant reduction in fetch time from more than 30 seconds to just 3-5 seconds.\n",
        "•\tTechnical lead for backend development, working closely with various teams to address go-live challenges, decreased post-launch bugs and enhanced system stability through code reviews.\n",
        "Education\n",
        "University of North Texas | Denton, US | MS in AI | 3.81 CGPA\n",
        "Aug 2022 – May 2024\n",
        "\n",
        "Relevant courses and exposure to diverse open-source Machine Learning projects that leverage cutting-edge Deep Learning concepts and architectures, such as LSTM, CNN, and Transformers.\n",
        "•\tDeep Learning: Fine tune Semantic segmentation on custom dataset using Hugging Face.\n",
        "•\tIntroduction to Big Data: LSTM for sentiment analysis using Bigdata concepts.\n",
        "•\tNLP: Fine tune BERT model for classification.\n",
        "•\tFeature Engineering: Feature Engineering Automation using Reinforcement learning approach.\n",
        "\n",
        "NED University | Karachi, Pakistan | BS in CS | 3.61 CGPA\n",
        "Jan 2014 – Oct 2017\n",
        "\n",
        "Contact\n",
        "uzairnaeem15@gmail.com\n",
        "+1 469 922 0539\n",
        "Plano, TX\n",
        "GitHub\n",
        "LinkedIn\n",
        "\n",
        "Skills\n",
        "D365 F&O / AX 2012\n",
        ".NET / .NET core / C#,  X++\n",
        "SQL\n",
        "SSRS Reports\n",
        "Web services\n",
        "Restful APIs\n",
        "Git\n",
        "Azure\n",
        "Troubleshooting Issues\n",
        "Communication\n",
        "Teamwork\n",
        "\n",
        "Educational Skills\n",
        "Python\n",
        "ML libraries (scikit-learn, PyTorch, NumPy, Pandas)\n",
        "JavaScript, Html, CSS\n",
        "Deep learning\n",
        "NLP\n",
        "Tableau / Power BI\n",
        "Statistical analysis\n",
        "Big Data (Hadoop and Spark)\n",
        "\n",
        "Languages\n",
        "Urdu (Native)\n",
        "English B2 (6.5 bands in IELTS Academic)\n",
        "\n",
        "Other activities at Folio3\n",
        "Mentored and trained junior resources.\n",
        "Organizer and participant of Idea bash / Code wars.\n",
        "Employee of the month nominee at Folio3 in Feb, March, July 2018, and July 2020.\n",
        "Member of the organizing committee of internship program in 2019 and 2020.\n",
        "\n",
        "\"\"\""
      ],
      "metadata": {
        "id": "8PpcYcedfpm5"
      },
      "execution_count": 24,
      "outputs": []
    },
    {
      "cell_type": "code",
      "source": [
        "input_prompt =\"\"\"\n",
        "\n",
        "### As a skilled Application Tracking System (ATS) with advanced knowledge in technology and data science, your role is to meticulously evaluate a candidate's resume based on the provided job description.\n",
        "\n",
        "### Your evaluation will involve analyzing the resume for relevant skills, experiences, and qualifications that align with the job requirements. Look for key buzzwords and specific criteria outlined in the job description to determine the candidate's suitability for the position.\n",
        "\n",
        "### Provide a detailed assessment of how well the resume matches the job requirements, highlighting strengths, weaknesses, and any potential areas of concern. Offer constructive feedback on how the candidate can enhance their resume to better align with the job description and improve their chances of securing the position.\n",
        "\n",
        "### Your evaluation should be thorough, precise, and objective, ensuring that the most qualified candidates are accurately identified based on their resume content in relation to the job criteria.\n",
        "\n",
        "### Remember to utilize your expertise in technology and data science to conduct a comprehensive evaluation that optimizes the recruitment process for the hiring company. Your insights will play a crucial role in determining the candidate's compatibility with the job role.\n",
        "resume={text}\n",
        "\n",
        "jd={jd}\n",
        "\n",
        "### Evaluation Output:\n",
        "1. Calculate the percentage of match between the resume and the job description. Give a number and some explation\n",
        "2. Identify any key keywords that are missing from the resume in comparison to the job description.\n",
        "3. Offer specific and actionable tips to enhance the resume and improve its alignment with the job requirements.\n",
        "\n",
        "You must respond as a JSON object with the following structure:\n",
        "\n",
        "{{\n",
        "  \"result\": {{\n",
        "    \"match_percentage\": \"<percentage>\",\n",
        "    \"missing_keywords\": [ <keyword1>, <keyword2>  ],\n",
        "    \"All_keywords_in_jd\": [ <keyword1>, <keyword2>  ],\n",
        "    \"All_keywords_in_resume\": [ <keyword1>, <keyword2>  ],\n",
        "    \"explanation\": \"<explanation>\",\n",
        "    \"enhancement_tips\": [ <tip1>, <tip2>  ],\n",
        "}}}}\n",
        "\n",
        "\"\"\""
      ],
      "metadata": {
        "id": "wHUW7xtDfavx"
      },
      "execution_count": 45,
      "outputs": []
    },
    {
      "cell_type": "code",
      "source": [
        "response3 = get_gemini_response(input_prompt.format(text=text, jd=jd))\n",
        "print(response3)"
      ],
      "metadata": {
        "colab": {
          "base_uri": "https://localhost:8080/",
          "height": 849
        },
        "id": "cikqJS_Tfslt",
        "outputId": "cf40b796-957c-4a85-82e3-724334289fc2"
      },
      "execution_count": 46,
      "outputs": [
        {
          "output_type": "stream",
          "name": "stdout",
          "text": [
            "response:\n",
            "GenerateContentResponse(\n",
            "    done=True,\n",
            "    iterator=None,\n",
            "    result=protos.GenerateContentResponse({\n",
            "      \"candidates\": [\n",
            "        {\n",
            "          \"content\": {\n",
            "            \"parts\": [\n",
            "              {\n",
            "                \"text\": \"```json\\n{\\n  \\\"result\\\": {\\n    \\\"match_percentage\\\": \\\"75%\\\",\\n    \\\"missing_keywords\\\": [\\n      \\\"ASP.NET\\\",\\n      \\\"MVC frameworks\\\",\\n      \\\"Design patterns\\\",\\n      \\\"Best coding practices\\\",\\n      \\\"Remote team environment\\\"\\n    ],\\n    \\\"All_keywords_in_jd\\\": [\\n      \\\"C#\\\",\\n      \\\".NET\\\",\\n      \\\"HTML\\\",\\n      \\\"CSS\\\",\\n      \\\"JavaScript\\\",\\n      \\\"SQL Server\\\",\\n      \\\"MySQL\\\",\\n      \\\"Problem-solving\\\",\\n      \\\"Web applications\\\",\\n      \\\"Enterprise-level software\\\",\\n      \\\"ASP.NET\\\",\\n      \\\"MVC frameworks\\\",\\n      \\\"Design patterns\\\",\\n      \\\"Best coding practices\\\",\\n      \\\"Remote team environment\\\"\\n    ],\\n    \\\"All_keywords_in_resume\\\": [\\n      \\\"C#\\\",\\n      \\\".NET\\\",\\n      \\\".NET Core\\\",\\n      \\\"HTML\\\",\\n      \\\"CSS\\\",\\n      \\\"JavaScript\\\",\\n      \\\"SQL\\\",\\n      \\\"Web services\\\",\\n      \\\"Restful APIs\\\",\\n      \\\"Problem-solving\\\",\\n      \\\"Teamwork\\\",\\n      \\\"Web applications\\\",\\n      \\\"Enterprise-level software\\\"\\n    ],\\n    \\\"explanation\\\": \\\"The candidate demonstrates strong proficiency in C#, .NET, and related technologies, and has experience with web applications and enterprise-level software. Their experience with D365 F&O and AX 2012 aligns with enterprise-level software experience. However, the resume lacks specific mentions of ASP.NET, MVC frameworks, design patterns, best coding practices, and experience working in a remote team environment. This suggests potential gaps in the candidate's understanding of these key requirements outlined in the job description.\\\",\\n    \\\"enhancement_tips\\\": [\\n      \\\"Explicitly mention experience with ASP.NET and MVC frameworks. If limited, highlight any relevant projects where you utilized similar concepts.\\\",\\n      \\\"Showcase your understanding of design patterns and best coding practices. Mention any frameworks or methodologies you follow in your development process.\\\",\\n      \\\"Highlight instances where you effectively collaborated in a remote team environment, emphasizing communication and problem-solving skills.\\\",\\n      \\\"Quantify your achievements and contributions whenever possible, using metrics like code improvements, reduced development time, or bug resolution rates.\\\",\\n      \\\"Tailor your resume to the specific requirements of this job description, showcasing your most relevant skills and experiences.\\\"\\n    ]\\n  }\\n}\\n```\"\n",
            "              }\n",
            "            ],\n",
            "            \"role\": \"model\"\n",
            "          },\n",
            "          \"finish_reason\": \"STOP\",\n",
            "          \"index\": 0,\n",
            "          \"safety_ratings\": [\n",
            "            {\n",
            "              \"category\": \"HARM_CATEGORY_SEXUALLY_EXPLICIT\",\n",
            "              \"probability\": \"NEGLIGIBLE\"\n",
            "            },\n",
            "            {\n",
            "              \"category\": \"HARM_CATEGORY_HATE_SPEECH\",\n",
            "              \"probability\": \"NEGLIGIBLE\"\n",
            "            },\n",
            "            {\n",
            "              \"category\": \"HARM_CATEGORY_HARASSMENT\",\n",
            "              \"probability\": \"NEGLIGIBLE\"\n",
            "            },\n",
            "            {\n",
            "              \"category\": \"HARM_CATEGORY_DANGEROUS_CONTENT\",\n",
            "              \"probability\": \"NEGLIGIBLE\"\n",
            "            }\n",
            "          ]\n",
            "        }\n",
            "      ],\n",
            "      \"usage_metadata\": {\n",
            "        \"prompt_token_count\": 1795,\n",
            "        \"candidates_token_count\": 519,\n",
            "        \"total_token_count\": 2314\n",
            "      }\n",
            "    }),\n",
            ")\n"
          ]
        }
      ]
    },
    {
      "cell_type": "code",
      "source": [
        "import json"
      ],
      "metadata": {
        "id": "ATnr69YijleB"
      },
      "execution_count": 32,
      "outputs": []
    },
    {
      "cell_type": "code",
      "source": [
        "print(response3.text)"
      ],
      "metadata": {
        "colab": {
          "base_uri": "https://localhost:8080/"
        },
        "id": "Xbe7ggjKk40C",
        "outputId": "5cfb2486-1c3f-4557-f26d-63ddd1689a66"
      },
      "execution_count": 51,
      "outputs": [
        {
          "output_type": "stream",
          "name": "stdout",
          "text": [
            "```json\n",
            "{\n",
            "  \"result\": {\n",
            "    \"match_percentage\": \"75%\",\n",
            "    \"missing_keywords\": [\n",
            "      \"ASP.NET\",\n",
            "      \"MVC frameworks\",\n",
            "      \"Design patterns\",\n",
            "      \"Best coding practices\",\n",
            "      \"Remote team environment\"\n",
            "    ],\n",
            "    \"All_keywords_in_jd\": [\n",
            "      \"C#\",\n",
            "      \".NET\",\n",
            "      \"HTML\",\n",
            "      \"CSS\",\n",
            "      \"JavaScript\",\n",
            "      \"SQL Server\",\n",
            "      \"MySQL\",\n",
            "      \"Problem-solving\",\n",
            "      \"Web applications\",\n",
            "      \"Enterprise-level software\",\n",
            "      \"ASP.NET\",\n",
            "      \"MVC frameworks\",\n",
            "      \"Design patterns\",\n",
            "      \"Best coding practices\",\n",
            "      \"Remote team environment\"\n",
            "    ],\n",
            "    \"All_keywords_in_resume\": [\n",
            "      \"C#\",\n",
            "      \".NET\",\n",
            "      \".NET Core\",\n",
            "      \"HTML\",\n",
            "      \"CSS\",\n",
            "      \"JavaScript\",\n",
            "      \"SQL\",\n",
            "      \"Web services\",\n",
            "      \"Restful APIs\",\n",
            "      \"Problem-solving\",\n",
            "      \"Teamwork\",\n",
            "      \"Web applications\",\n",
            "      \"Enterprise-level software\"\n",
            "    ],\n",
            "    \"explanation\": \"The candidate demonstrates strong proficiency in C#, .NET, and related technologies, and has experience with web applications and enterprise-level software. Their experience with D365 F&O and AX 2012 aligns with enterprise-level software experience. However, the resume lacks specific mentions of ASP.NET, MVC frameworks, design patterns, best coding practices, and experience working in a remote team environment. This suggests potential gaps in the candidate's understanding of these key requirements outlined in the job description.\",\n",
            "    \"enhancement_tips\": [\n",
            "      \"Explicitly mention experience with ASP.NET and MVC frameworks. If limited, highlight any relevant projects where you utilized similar concepts.\",\n",
            "      \"Showcase your understanding of design patterns and best coding practices. Mention any frameworks or methodologies you follow in your development process.\",\n",
            "      \"Highlight instances where you effectively collaborated in a remote team environment, emphasizing communication and problem-solving skills.\",\n",
            "      \"Quantify your achievements and contributions whenever possible, using metrics like code improvements, reduced development time, or bug resolution rates.\",\n",
            "      \"Tailor your resume to the specific requirements of this job description, showcasing your most relevant skills and experiences.\"\n",
            "    ]\n",
            "  }\n",
            "}\n",
            "```\n"
          ]
        }
      ]
    },
    {
      "cell_type": "code",
      "source": [
        "try:\n",
        "    response_text = response3.text.replace(\"```json\", '')\n",
        "    response_text = response_text.replace(\"```\", '')\n",
        "    jsonres = json.loads(response_text)\n",
        "\n",
        "    # Convert the JSON String to a dictionary\n",
        "except json.JSONDecodeError:\n",
        "    print(\"Failed to decode question JSON.\")\n",
        "\n",
        "jsonres"
      ],
      "metadata": {
        "colab": {
          "base_uri": "https://localhost:8080/"
        },
        "id": "dsKWSf4ljsMu",
        "outputId": "c50b083c-cc9a-4168-8eb7-915ce78ecf50"
      },
      "execution_count": 52,
      "outputs": [
        {
          "output_type": "execute_result",
          "data": {
            "text/plain": [
              "{'result': {'match_percentage': '75%',\n",
              "  'missing_keywords': ['ASP.NET',\n",
              "   'MVC frameworks',\n",
              "   'Design patterns',\n",
              "   'Best coding practices',\n",
              "   'Remote team environment'],\n",
              "  'All_keywords_in_jd': ['C#',\n",
              "   '.NET',\n",
              "   'HTML',\n",
              "   'CSS',\n",
              "   'JavaScript',\n",
              "   'SQL Server',\n",
              "   'MySQL',\n",
              "   'Problem-solving',\n",
              "   'Web applications',\n",
              "   'Enterprise-level software',\n",
              "   'ASP.NET',\n",
              "   'MVC frameworks',\n",
              "   'Design patterns',\n",
              "   'Best coding practices',\n",
              "   'Remote team environment'],\n",
              "  'All_keywords_in_resume': ['C#',\n",
              "   '.NET',\n",
              "   '.NET Core',\n",
              "   'HTML',\n",
              "   'CSS',\n",
              "   'JavaScript',\n",
              "   'SQL',\n",
              "   'Web services',\n",
              "   'Restful APIs',\n",
              "   'Problem-solving',\n",
              "   'Teamwork',\n",
              "   'Web applications',\n",
              "   'Enterprise-level software'],\n",
              "  'explanation': \"The candidate demonstrates strong proficiency in C#, .NET, and related technologies, and has experience with web applications and enterprise-level software. Their experience with D365 F&O and AX 2012 aligns with enterprise-level software experience. However, the resume lacks specific mentions of ASP.NET, MVC frameworks, design patterns, best coding practices, and experience working in a remote team environment. This suggests potential gaps in the candidate's understanding of these key requirements outlined in the job description.\",\n",
              "  'enhancement_tips': ['Explicitly mention experience with ASP.NET and MVC frameworks. If limited, highlight any relevant projects where you utilized similar concepts.',\n",
              "   'Showcase your understanding of design patterns and best coding practices. Mention any frameworks or methodologies you follow in your development process.',\n",
              "   'Highlight instances where you effectively collaborated in a remote team environment, emphasizing communication and problem-solving skills.',\n",
              "   'Quantify your achievements and contributions whenever possible, using metrics like code improvements, reduced development time, or bug resolution rates.',\n",
              "   'Tailor your resume to the specific requirements of this job description, showcasing your most relevant skills and experiences.']}}"
            ]
          },
          "metadata": {},
          "execution_count": 52
        }
      ]
    }
  ]
}