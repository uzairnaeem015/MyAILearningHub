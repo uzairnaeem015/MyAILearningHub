{
  "nbformat": 4,
  "nbformat_minor": 0,
  "metadata": {
    "colab": {
      "provenance": []
    },
    "kernelspec": {
      "name": "python3",
      "display_name": "Python 3"
    },
    "language_info": {
      "name": "python"
    }
  },
  "cells": [
    {
      "cell_type": "code",
      "execution_count": 1,
      "metadata": {
        "colab": {
          "base_uri": "https://localhost:8080/",
          "height": 0
        },
        "id": "qzf_-HSqL52Q",
        "outputId": "9c3c7d02-6888-432d-cc1d-ce8650785e11"
      },
      "outputs": [
        {
          "output_type": "stream",
          "name": "stdout",
          "text": [
            "Requirement already satisfied: gensim in /usr/local/lib/python3.10/dist-packages (4.3.3)\n",
            "Requirement already satisfied: nltk in /usr/local/lib/python3.10/dist-packages (3.8.1)\n",
            "Requirement already satisfied: numpy in /usr/local/lib/python3.10/dist-packages (1.26.4)\n",
            "Requirement already satisfied: pandas in /usr/local/lib/python3.10/dist-packages (2.1.4)\n",
            "Requirement already satisfied: plotly in /usr/local/lib/python3.10/dist-packages (5.15.0)\n",
            "Collecting PyPDF2\n",
            "  Downloading pypdf2-3.0.1-py3-none-any.whl.metadata (6.8 kB)\n",
            "Requirement already satisfied: scipy<1.14.0,>=1.7.0 in /usr/local/lib/python3.10/dist-packages (from gensim) (1.13.1)\n",
            "Requirement already satisfied: smart-open>=1.8.1 in /usr/local/lib/python3.10/dist-packages (from gensim) (7.0.4)\n",
            "Requirement already satisfied: click in /usr/local/lib/python3.10/dist-packages (from nltk) (8.1.7)\n",
            "Requirement already satisfied: joblib in /usr/local/lib/python3.10/dist-packages (from nltk) (1.4.2)\n",
            "Requirement already satisfied: regex>=2021.8.3 in /usr/local/lib/python3.10/dist-packages (from nltk) (2024.5.15)\n",
            "Requirement already satisfied: tqdm in /usr/local/lib/python3.10/dist-packages (from nltk) (4.66.5)\n",
            "Requirement already satisfied: python-dateutil>=2.8.2 in /usr/local/lib/python3.10/dist-packages (from pandas) (2.8.2)\n",
            "Requirement already satisfied: pytz>=2020.1 in /usr/local/lib/python3.10/dist-packages (from pandas) (2024.1)\n",
            "Requirement already satisfied: tzdata>=2022.1 in /usr/local/lib/python3.10/dist-packages (from pandas) (2024.1)\n",
            "Requirement already satisfied: tenacity>=6.2.0 in /usr/local/lib/python3.10/dist-packages (from plotly) (9.0.0)\n",
            "Requirement already satisfied: packaging in /usr/local/lib/python3.10/dist-packages (from plotly) (24.1)\n",
            "Requirement already satisfied: six>=1.5 in /usr/local/lib/python3.10/dist-packages (from python-dateutil>=2.8.2->pandas) (1.16.0)\n",
            "Requirement already satisfied: wrapt in /usr/local/lib/python3.10/dist-packages (from smart-open>=1.8.1->gensim) (1.16.0)\n",
            "Downloading pypdf2-3.0.1-py3-none-any.whl (232 kB)\n",
            "\u001b[2K   \u001b[90m━━━━━━━━━━━━━━━━━━━━━━━━━━━━━━━━━━━━━━━━\u001b[0m \u001b[32m232.6/232.6 kB\u001b[0m \u001b[31m3.4 MB/s\u001b[0m eta \u001b[36m0:00:00\u001b[0m\n",
            "\u001b[?25hInstalling collected packages: PyPDF2\n",
            "Successfully installed PyPDF2-3.0.1\n"
          ]
        }
      ],
      "source": [
        "pip install gensim nltk numpy pandas plotly PyPDF2"
      ]
    },
    {
      "cell_type": "code",
      "source": [
        " from gensim.models.doc2vec import Doc2Vec, TaggedDocument\n",
        " model = Doc2Vec.load('cv_job_maching.model')"
      ],
      "metadata": {
        "id": "AQ4pZaWZMVeW"
      },
      "execution_count": 3,
      "outputs": []
    },
    {
      "cell_type": "code",
      "source": [
        "import PyPDF2\n",
        "pdf = PyPDF2.PdfReader('Uzair Naeem.pdf')\n",
        "resume = \"\"\n",
        "for i in range(len(pdf.pages)):\n",
        "    pageObj = pdf.pages[i]\n",
        "    resume += pageObj.extract_text()"
      ],
      "metadata": {
        "id": "sofr5bFNM5ic"
      },
      "execution_count": 4,
      "outputs": []
    },
    {
      "cell_type": "code",
      "source": [
        "from gensim.models.doc2vec import Doc2Vec, TaggedDocument\n",
        "from nltk.tokenize import word_tokenize\n",
        "from numpy.linalg import norm\n",
        "from termcolor import colored\n",
        "import pandas as pd\n",
        "import numpy as np\n",
        "import requests\n",
        "import PyPDF2\n",
        "import re\n",
        "import plotly.graph_objects as go\n",
        "import nltk\n",
        "\n",
        "def preprocess_text(text):\n",
        "    # Convert the text to lowercase\n",
        "    text = text.lower()\n",
        "\n",
        "    # Remove punctuation from the text\n",
        "    text = re.sub('[^a-z]', ' ', text)\n",
        "\n",
        "    # Remove numerical values from the text\n",
        "    text = re.sub(r'\\d+', '', text)\n",
        "\n",
        "    # Remove extra whitespaces\n",
        "    text = ' '.join(text.split())\n",
        "\n",
        "    return text"
      ],
      "metadata": {
        "id": "6YTVQsHHNOKu"
      },
      "execution_count": 5,
      "outputs": []
    },
    {
      "cell_type": "code",
      "source": [
        "jd = \"\"\"\n",
        "Job Description:\n",
        "\n",
        "Capgemini Engineering is looking for a Full stack engineer to accelerate exponential growth in Digital Health sector, we are growing our offerings on multiple areas to support and help patients, physicians, reps. You will be working in a team that is working on next-gen technology development that enables AI in this sector.\n",
        "\n",
        "Key Responsibilities:\n",
        "\n",
        "·       Implementing groundbreaking technologies that enables our device applications store and retrieve data.\n",
        "\n",
        "·       Develop and deliver the user interfaces in Angular that can be consumed by client’s device-agnostic way.\n",
        "\n",
        "·       Peer-review code of the team members and encourage better coding approaches.\n",
        "\n",
        "·       Write unit tests for front-end to ensure enough code coverage is there.\n",
        "\n",
        "·       Detail the work as per the (Med device) industry standard documentation practices.\n",
        "\n",
        "Required Skills:\n",
        "\n",
        "·       5+ plus years hands-on coding experience with C#, .NET, ASP.Net Core, Angular/React JS, SQL.\n",
        "\n",
        "·       Server/PostgreSQL/Azure Cosmos DB, Data Lake, etc.\n",
        "\n",
        "·       Proven knowledge of ASP.MVC, Entity Framework and LINQ.\n",
        "\n",
        "·       Experience crafting and leading REST APIs using microservices architecture.\n",
        "\n",
        "·       Experience using Angular or React or similar frameworks.\n",
        "\n",
        "·       Ability to write code using Typescript, Good knowledge of Angular Components, Directives, Services and Routing etc.\n",
        "\n",
        "·       Experience working in Continuous Integration / Continuous Build Environments\n",
        "\n",
        "·       Experience with distributed applications and building/operating highly available systems.\n",
        "\n",
        "·       Experience using TFS, Git and Visual Studio.\n",
        "\n",
        "·       Ability to automate unit test cases.\n",
        "\n",
        "·       Experience in agile development methodologies.\n",
        "\n",
        "·       Bachelor’s degree in software engineering, computer engineering computer.\n",
        "\"\"\""
      ],
      "metadata": {
        "id": "CSJ-OICbNFOE"
      },
      "execution_count": 6,
      "outputs": []
    },
    {
      "cell_type": "code",
      "source": [
        "# Apply to CV and JD\n",
        "input_CV = preprocess_text(resume)\n",
        "input_JD = preprocess_text(jd)"
      ],
      "metadata": {
        "id": "wjrCqSnbNPyh"
      },
      "execution_count": 7,
      "outputs": []
    },
    {
      "cell_type": "code",
      "source": [
        "v1 = model.infer_vector(input_CV.split()) # Input of CV\n",
        "v2 = model.infer_vector(input_JD.split()) # Input of JD\n",
        "similarity = 100*(np.dot(np.array(v1), np.array(v2))) / (norm(np.array(v1)) * norm(np.array(v2)))\n",
        "print(round(similarity, 2))"
      ],
      "metadata": {
        "colab": {
          "base_uri": "https://localhost:8080/",
          "height": 0
        },
        "id": "r9I6ZoHDMs0o",
        "outputId": "ec87a401-6b4d-41b2-badc-1359d53d984b"
      },
      "execution_count": 8,
      "outputs": [
        {
          "output_type": "stream",
          "name": "stdout",
          "text": [
            "52.96\n"
          ]
        }
      ]
    }
  ]
}